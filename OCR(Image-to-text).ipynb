{
 "cells": [
  {
   "cell_type": "code",
   "execution_count": 1,
   "metadata": {},
   "outputs": [
    {
     "name": "stdout",
     "output_type": "stream",
     "text": [
      "Requirement already satisfied: pytesseract in c:\\users\\talk2\\anaconda3\\lib\\site-packages (0.3.6)\n",
      "Requirement already satisfied: Pillow in c:\\users\\talk2\\anaconda3\\lib\\site-packages (from pytesseract) (6.2.0)\n"
     ]
    }
   ],
   "source": [
    "!pip install pytesseract"
   ]
  },
  {
   "cell_type": "code",
   "execution_count": 9,
   "metadata": {
    "scrolled": true
   },
   "outputs": [
    {
     "name": "stdout",
     "output_type": "stream",
     "text": [
      "INPUT: The highlighted part of the image\n",
      "given below was provided as input to the\n",
      "\n",
      "above code.\n",
      "\n",
      "Exam Management\n",
      "\n",
      "Conduct on-line MCQ tests for students. Give\n",
      "\n",
      "instant results and solutions. Manage physical\n",
      "\n",
      "or manual exam mark's records, track complete\n",
      "student performance for each subjects.\n",
      "\n",
      " \n",
      "\n",
      "\n"
     ]
    }
   ],
   "source": [
    "# Import modules\n",
    "from PIL import Image\n",
    "import pytesseract\n",
    "\n",
    "# Include tesseract executable in your path\n",
    "pytesseract.pytesseract.tesseract_cmd = r\"C:\\Program Files (x86)\\Tesseract-OCR\\tesseract.exe\"\n",
    "\n",
    "# Create an image object of PIL library\n",
    "image = Image.open('C:/Users/talk2/OCR/test.jpg')\n",
    "\n",
    "# pass image into pytesseract module\n",
    "# pytesseract is trained in many languages\n",
    "image_to_text = pytesseract.image_to_string(image, lang='eng')\n",
    "\n",
    "# Print the text\n",
    "print(image_to_text)"
   ]
  },
  {
   "cell_type": "code",
   "execution_count": null,
   "metadata": {},
   "outputs": [],
   "source": []
  },
  {
   "cell_type": "code",
   "execution_count": null,
   "metadata": {},
   "outputs": [],
   "source": []
  }
 ],
 "metadata": {
  "kernelspec": {
   "display_name": "Python 3",
   "language": "python",
   "name": "python3"
  },
  "language_info": {
   "codemirror_mode": {
    "name": "ipython",
    "version": 3
   },
   "file_extension": ".py",
   "mimetype": "text/x-python",
   "name": "python",
   "nbconvert_exporter": "python",
   "pygments_lexer": "ipython3",
   "version": "3.7.4"
  }
 },
 "nbformat": 4,
 "nbformat_minor": 2
}
